{
  "nbformat": 4,
  "nbformat_minor": 0,
  "metadata": {
    "colab": {
      "name": "19.2_\"Pandas #1. Домашнее задание. Light. Университет Искусственного Интеллекта.ipynb\"",
      "provenance": [],
      "collapsed_sections": [],
      "include_colab_link": true
    },
    "kernelspec": {
      "name": "python3",
      "display_name": "Python 3"
    }
  },
  "cells": [
    {
      "cell_type": "markdown",
      "metadata": {
        "id": "view-in-github",
        "colab_type": "text"
      },
      "source": [
        "<a href=\"https://colab.research.google.com/github/Olgerd96/NeuralUniversity/blob/main/19.2_Pandas_1_%D0%94%D0%BE%D0%BC%D0%B0%D1%88%D0%BD%D0%B5%D0%B5_%D0%B7%D0%B0%D0%B4%D0%B0%D0%BD%D0%B8%D0%B5_Light_%D0%A3%D0%BD%D0%B8%D0%B2%D0%B5%D1%80%D1%81%D0%B8%D1%82%D0%B5%D1%82_%D0%98%D1%81%D0%BA%D1%83%D1%81%D1%81%D1%82%D0%B2%D0%B5%D0%BD%D0%BD%D0%BE%D0%B3%D0%BE_%D0%98%D0%BD%D1%82%D0%B5%D0%BB%D0%BB%D0%B5%D0%BA%D1%82%D0%B0.ipynb\" target=\"_parent\"><img src=\"https://colab.research.google.com/assets/colab-badge.svg\" alt=\"Open In Colab\"/></a>"
      ]
    },
    {
      "cell_type": "markdown",
      "metadata": {
        "id": "LHRnevSwKv86"
      },
      "source": [
        "# Pandas часть 1. Домашнее Задание. Light\n",
        "\n",
        "*2 балла за каждую задачу*\n",
        "\n",
        "*1 бонусный балл, если все задачи покрыты комментариями, которые описывают тактику решение задачи (до 10 баллов)*"
      ]
    },
    {
      "cell_type": "markdown",
      "metadata": {
        "id": "pE1Y1o7KJ2YE"
      },
      "source": [
        "### Задача 1\n",
        "*(2 балла)*\n",
        "\n",
        "Загрузите базу температур любым удобным способом. Выведите базу. Посчитайте число пустых записей в столбце State.\n",
        "\n",
        "Ссылка на скачивание базы: https://drive.google.com/file/d/1bLiz_81Kb4pMryEalRe66jS38_F6vwMX/view?usp=sharing"
      ]
    },
    {
      "cell_type": "markdown",
      "metadata": {
        "id": "2ezb2xCINL8_"
      },
      "source": [
        "**Решение:**"
      ]
    },
    {
      "cell_type": "code",
      "metadata": {
        "id": "B6MSVCRmC8nL",
        "outputId": "c83dcc15-7ae4-4352-d64c-119aca430c46",
        "colab": {
          "base_uri": "https://localhost:8080/"
        }
      },
      "source": [
        "from google.colab import drive\n",
        "import pandas as pd\n",
        "\n",
        "drive.mount('/content/drive')\n",
        "\n",
        "df=pd.read_csv(\"/content/drive/MyDrive/Colab Notebooks/Neural/city_temperature.csv\")\n",
        "print(\"\\nЗагрузили данные: \\t\", df.shape)\n",
        "print(\"Число пустых записей в State: \\t\", df[\"State\"].isna().sum())"
      ],
      "execution_count": 14,
      "outputs": [
        {
          "output_type": "stream",
          "name": "stdout",
          "text": [
            "Drive already mounted at /content/drive; to attempt to forcibly remount, call drive.mount(\"/content/drive\", force_remount=True).\n"
          ]
        },
        {
          "output_type": "stream",
          "name": "stderr",
          "text": [
            "/usr/local/lib/python3.7/dist-packages/IPython/core/interactiveshell.py:2718: DtypeWarning: Columns (2) have mixed types.Specify dtype option on import or set low_memory=False.\n",
            "  interactivity=interactivity, compiler=compiler, result=result)\n"
          ]
        },
        {
          "output_type": "stream",
          "name": "stdout",
          "text": [
            "\n",
            "Загрузили данные: \t (2906327, 8)\n",
            "Число пустых записей в State: \t 1450990\n"
          ]
        }
      ]
    },
    {
      "cell_type": "markdown",
      "metadata": {
        "id": "L4tuO6nGPkge"
      },
      "source": [
        "### Задача 2\n",
        "*(2 балла)*\n",
        "\n",
        "Заполните пустые данные в базе словом \"No\". Запишите результат в ту же переменную. Выведите ее на экран."
      ]
    },
    {
      "cell_type": "markdown",
      "metadata": {
        "id": "FikmB_61P7JS"
      },
      "source": [
        "**Решение:**"
      ]
    },
    {
      "cell_type": "code",
      "metadata": {
        "id": "m0SAFNnLC9zG",
        "colab": {
          "base_uri": "https://localhost:8080/",
          "height": 504
        },
        "outputId": "2c227639-a3da-4a1d-956b-f00614f643cb"
      },
      "source": [
        "#df[\"State\"]=df[\"State\"].fillna(\"No\")\n",
        "df=df.fillna(\"No\")\n",
        "\n",
        "df.sample(15)"
      ],
      "execution_count": 23,
      "outputs": [
        {
          "output_type": "execute_result",
          "data": {
            "text/html": [
              "<div>\n",
              "<style scoped>\n",
              "    .dataframe tbody tr th:only-of-type {\n",
              "        vertical-align: middle;\n",
              "    }\n",
              "\n",
              "    .dataframe tbody tr th {\n",
              "        vertical-align: top;\n",
              "    }\n",
              "\n",
              "    .dataframe thead th {\n",
              "        text-align: right;\n",
              "    }\n",
              "</style>\n",
              "<table border=\"1\" class=\"dataframe\">\n",
              "  <thead>\n",
              "    <tr style=\"text-align: right;\">\n",
              "      <th></th>\n",
              "      <th>Region</th>\n",
              "      <th>Country</th>\n",
              "      <th>State</th>\n",
              "      <th>City</th>\n",
              "      <th>Month</th>\n",
              "      <th>Day</th>\n",
              "      <th>Year</th>\n",
              "      <th>AvgTemperature</th>\n",
              "    </tr>\n",
              "  </thead>\n",
              "  <tbody>\n",
              "    <tr>\n",
              "      <th>1135450</th>\n",
              "      <td>North America</td>\n",
              "      <td>Canada</td>\n",
              "      <td>No</td>\n",
              "      <td>Calgary</td>\n",
              "      <td>8</td>\n",
              "      <td>9</td>\n",
              "      <td>2009</td>\n",
              "      <td>64.3</td>\n",
              "    </tr>\n",
              "    <tr>\n",
              "      <th>2660767</th>\n",
              "      <td>North America</td>\n",
              "      <td>US</td>\n",
              "      <td>Texas</td>\n",
              "      <td>Brownsville</td>\n",
              "      <td>10</td>\n",
              "      <td>18</td>\n",
              "      <td>2000</td>\n",
              "      <td>75.7</td>\n",
              "    </tr>\n",
              "    <tr>\n",
              "      <th>1146519</th>\n",
              "      <td>North America</td>\n",
              "      <td>Canada</td>\n",
              "      <td>No</td>\n",
              "      <td>Halifax</td>\n",
              "      <td>3</td>\n",
              "      <td>22</td>\n",
              "      <td>2000</td>\n",
              "      <td>34.7</td>\n",
              "    </tr>\n",
              "    <tr>\n",
              "      <th>481068</th>\n",
              "      <td>Asia</td>\n",
              "      <td>Philippines</td>\n",
              "      <td>No</td>\n",
              "      <td>Manila</td>\n",
              "      <td>9</td>\n",
              "      <td>30</td>\n",
              "      <td>2002</td>\n",
              "      <td>81.6</td>\n",
              "    </tr>\n",
              "    <tr>\n",
              "      <th>1568185</th>\n",
              "      <td>North America</td>\n",
              "      <td>US</td>\n",
              "      <td>California</td>\n",
              "      <td>Fresno</td>\n",
              "      <td>1</td>\n",
              "      <td>22</td>\n",
              "      <td>2015</td>\n",
              "      <td>47.4</td>\n",
              "    </tr>\n",
              "    <tr>\n",
              "      <th>2620501</th>\n",
              "      <td>North America</td>\n",
              "      <td>US</td>\n",
              "      <td>Tennessee</td>\n",
              "      <td>Memphis</td>\n",
              "      <td>5</td>\n",
              "      <td>22</td>\n",
              "      <td>2017</td>\n",
              "      <td>68.6</td>\n",
              "    </tr>\n",
              "    <tr>\n",
              "      <th>255371</th>\n",
              "      <td>Asia</td>\n",
              "      <td>Bangladesh</td>\n",
              "      <td>No</td>\n",
              "      <td>Dhaka</td>\n",
              "      <td>8</td>\n",
              "      <td>24</td>\n",
              "      <td>2006</td>\n",
              "      <td>83.7</td>\n",
              "    </tr>\n",
              "    <tr>\n",
              "      <th>1942680</th>\n",
              "      <td>North America</td>\n",
              "      <td>US</td>\n",
              "      <td>Kansas</td>\n",
              "      <td>Topeka</td>\n",
              "      <td>8</td>\n",
              "      <td>7</td>\n",
              "      <td>2019</td>\n",
              "      <td>76.0</td>\n",
              "    </tr>\n",
              "    <tr>\n",
              "      <th>2569979</th>\n",
              "      <td>North America</td>\n",
              "      <td>US</td>\n",
              "      <td>South Carolina</td>\n",
              "      <td>Columbia</td>\n",
              "      <td>11</td>\n",
              "      <td>24</td>\n",
              "      <td>2005</td>\n",
              "      <td>57.0</td>\n",
              "    </tr>\n",
              "    <tr>\n",
              "      <th>1034346</th>\n",
              "      <td>Middle East</td>\n",
              "      <td>Kuwait</td>\n",
              "      <td>No</td>\n",
              "      <td>Kuwait</td>\n",
              "      <td>11</td>\n",
              "      <td>24</td>\n",
              "      <td>2010</td>\n",
              "      <td>61.6</td>\n",
              "    </tr>\n",
              "    <tr>\n",
              "      <th>2562530</th>\n",
              "      <td>North America</td>\n",
              "      <td>US</td>\n",
              "      <td>South Carolina</td>\n",
              "      <td>Charleston</td>\n",
              "      <td>11</td>\n",
              "      <td>14</td>\n",
              "      <td>2010</td>\n",
              "      <td>51.2</td>\n",
              "    </tr>\n",
              "    <tr>\n",
              "      <th>1493072</th>\n",
              "      <td>North America</td>\n",
              "      <td>US</td>\n",
              "      <td>Alaska</td>\n",
              "      <td>Anchorage</td>\n",
              "      <td>10</td>\n",
              "      <td>1</td>\n",
              "      <td>2008</td>\n",
              "      <td>39.6</td>\n",
              "    </tr>\n",
              "    <tr>\n",
              "      <th>1199973</th>\n",
              "      <td>North America</td>\n",
              "      <td>Canada</td>\n",
              "      <td>No</td>\n",
              "      <td>Winnipeg</td>\n",
              "      <td>6</td>\n",
              "      <td>6</td>\n",
              "      <td>2002</td>\n",
              "      <td>66.8</td>\n",
              "    </tr>\n",
              "    <tr>\n",
              "      <th>1842367</th>\n",
              "      <td>North America</td>\n",
              "      <td>US</td>\n",
              "      <td>Illinois</td>\n",
              "      <td>Peoria</td>\n",
              "      <td>8</td>\n",
              "      <td>14</td>\n",
              "      <td>1998</td>\n",
              "      <td>70.8</td>\n",
              "    </tr>\n",
              "    <tr>\n",
              "      <th>1966798</th>\n",
              "      <td>North America</td>\n",
              "      <td>US</td>\n",
              "      <td>Kentucky</td>\n",
              "      <td>Louisville</td>\n",
              "      <td>7</td>\n",
              "      <td>13</td>\n",
              "      <td>2009</td>\n",
              "      <td>76.3</td>\n",
              "    </tr>\n",
              "  </tbody>\n",
              "</table>\n",
              "</div>"
            ],
            "text/plain": [
              "                Region      Country           State  ... Day  Year  AvgTemperature\n",
              "1135450  North America       Canada              No  ...   9  2009            64.3\n",
              "2660767  North America           US           Texas  ...  18  2000            75.7\n",
              "1146519  North America       Canada              No  ...  22  2000            34.7\n",
              "481068            Asia  Philippines              No  ...  30  2002            81.6\n",
              "1568185  North America           US      California  ...  22  2015            47.4\n",
              "2620501  North America           US       Tennessee  ...  22  2017            68.6\n",
              "255371            Asia   Bangladesh              No  ...  24  2006            83.7\n",
              "1942680  North America           US          Kansas  ...   7  2019            76.0\n",
              "2569979  North America           US  South Carolina  ...  24  2005            57.0\n",
              "1034346    Middle East       Kuwait              No  ...  24  2010            61.6\n",
              "2562530  North America           US  South Carolina  ...  14  2010            51.2\n",
              "1493072  North America           US          Alaska  ...   1  2008            39.6\n",
              "1199973  North America       Canada              No  ...   6  2002            66.8\n",
              "1842367  North America           US        Illinois  ...  14  1998            70.8\n",
              "1966798  North America           US        Kentucky  ...  13  2009            76.3\n",
              "\n",
              "[15 rows x 8 columns]"
            ]
          },
          "metadata": {},
          "execution_count": 23
        }
      ]
    },
    {
      "cell_type": "markdown",
      "metadata": {
        "id": "4wSd0c6cHXy4"
      },
      "source": [
        "### Задание 3\n",
        "*(2 балла)*\n",
        "\n",
        "\n",
        "При помощи метода Pandas определите число уникальных записей в столбцах Country, City, Year."
      ]
    },
    {
      "cell_type": "markdown",
      "metadata": {
        "id": "0qBu8jZANGBY"
      },
      "source": [
        "**Решение:**"
      ]
    },
    {
      "cell_type": "code",
      "metadata": {
        "id": "o6e1OQ9ZC_kK",
        "colab": {
          "base_uri": "https://localhost:8080/"
        },
        "outputId": "ac13ffac-5ce0-49cc-b8f3-da30fe4799a8"
      },
      "source": [
        "print(\"Количество уникальных в Country:\\t\", df[\"Country\"].nunique())\n",
        "print(\"Количество уникальных в City:\\t\", df[\"City\"].nunique())\n",
        "print(\"Количество уникальных в Year:\\t\", df[\"Year\"].nunique())\n"
      ],
      "execution_count": 27,
      "outputs": [
        {
          "output_type": "stream",
          "name": "stdout",
          "text": [
            "Количество уникальных в Country:\t 125\n",
            "Количество уникальных в City:\t 321\n",
            "Количество уникальных в Year:\t 28\n"
          ]
        }
      ]
    },
    {
      "cell_type": "markdown",
      "metadata": {
        "id": "ZqgZgXU3IaZF"
      },
      "source": [
        "### Задача 4\n",
        "*(2 балла)*\n",
        "\n",
        "При помощи библиотеки Pandas выведите строки, где в столбце Country встречается страна Russia.\n",
        "\n",
        "При помощи метода Pandas отдельно выведите число элементов в этой выборке."
      ]
    },
    {
      "cell_type": "markdown",
      "metadata": {
        "id": "rCAbJ-HRNARr"
      },
      "source": [
        "**Решение:**"
      ]
    },
    {
      "cell_type": "code",
      "metadata": {
        "id": "aZxVQFGKDIJr",
        "colab": {
          "base_uri": "https://localhost:8080/"
        },
        "outputId": "f65ebb16-3291-47fb-8de2-5dcdbfd699f2"
      },
      "source": [
        "df_ru=df[(df.Country == \"Russia\")]\n",
        "print(df_ru.sample(20))\n",
        "print(\"\\nЧисло элементов в выборке:\\t\", len(df_ru))\n"
      ],
      "execution_count": 36,
      "outputs": [
        {
          "output_type": "stream",
          "name": "stdout",
          "text": [
            "        Region Country State     City  Month  Day  Year  AvgTemperature\n",
            "879264  Europe  Russia    No   Moscow     10    5  1997            43.6\n",
            "887268  Europe  Russia    No   Moscow      9    3  2019            66.1\n",
            "884731  Europe  Russia    No   Moscow      9   23  2012            53.1\n",
            "883904  Europe  Russia    No   Moscow      6   19  2010            62.0\n",
            "882730  Europe  Russia    No   Moscow      4    2  2007            42.2\n",
            "887364  Europe  Russia    No   Moscow     12    8  2019            33.9\n",
            "880121  Europe  Russia    No   Moscow      2    9  2000            33.9\n",
            "884801  Europe  Russia    No   Moscow     12    2  2012            29.1\n",
            "883797  Europe  Russia    No   Moscow      3    4  2010            28.2\n",
            "879164  Europe  Russia    No   Moscow      6   27  1997            67.4\n",
            "879868  Europe  Russia    No   Moscow      6    1  1999            47.1\n",
            "889139  Europe  Russia    No  Yerevan      6    6  1999            71.0\n",
            "881875  Europe  Russia    No   Moscow     11   28  2004            13.4\n",
            "887836  Europe  Russia    No  Yerevan     11   11  1995            38.8\n",
            "886742  Europe  Russia    No   Moscow      3   26  2018            35.8\n",
            "884251  Europe  Russia    No   Moscow      6    1  2011            70.0\n",
            "880160  Europe  Russia    No   Moscow      3   19  2000            31.8\n",
            "886072  Europe  Russia    No   Moscow      5   25  2016            61.9\n",
            "887701  Europe  Russia    No  Yerevan      6   29  1995            76.6\n",
            "889076  Europe  Russia    No  Yerevan      4    4  1999            52.4\n",
            "\n",
            "Число элементов в выборке:\t 12492\n"
          ]
        }
      ]
    },
    {
      "cell_type": "markdown",
      "metadata": {
        "id": "HJQY0lbgNRkT"
      },
      "source": [
        "### Задача 5\n",
        "*(2 балла)*\n",
        "\n",
        "Создайте новый столбец температур, в котором будут записаны те же значения AvgTemperature, но в градусах Цельсия (исходная единица измерения - градусы Фаренгейта)."
      ]
    },
    {
      "cell_type": "markdown",
      "metadata": {
        "id": "M91qBqZ-Nq0P"
      },
      "source": [
        "**Решение:**"
      ]
    },
    {
      "cell_type": "code",
      "metadata": {
        "id": "I2JlfoFMDJRw",
        "colab": {
          "base_uri": "https://localhost:8080/",
          "height": 707
        },
        "outputId": "e349d5f9-69ac-4bd2-c0b5-30164163ad59"
      },
      "source": [
        "df[\"Temperature\"] = round((df.AvgTemperature-32)/1.8, 2)\n",
        "#print(df.AvgTemperature[(df.AvgTemperature < -45)].unique())\n",
        "df.sample(20)"
      ],
      "execution_count": 66,
      "outputs": [
        {
          "output_type": "execute_result",
          "data": {
            "text/html": [
              "<div>\n",
              "<style scoped>\n",
              "    .dataframe tbody tr th:only-of-type {\n",
              "        vertical-align: middle;\n",
              "    }\n",
              "\n",
              "    .dataframe tbody tr th {\n",
              "        vertical-align: top;\n",
              "    }\n",
              "\n",
              "    .dataframe thead th {\n",
              "        text-align: right;\n",
              "    }\n",
              "</style>\n",
              "<table border=\"1\" class=\"dataframe\">\n",
              "  <thead>\n",
              "    <tr style=\"text-align: right;\">\n",
              "      <th></th>\n",
              "      <th>Region</th>\n",
              "      <th>Country</th>\n",
              "      <th>State</th>\n",
              "      <th>City</th>\n",
              "      <th>Month</th>\n",
              "      <th>Day</th>\n",
              "      <th>Year</th>\n",
              "      <th>AvgTemperature</th>\n",
              "      <th>Temperature</th>\n",
              "    </tr>\n",
              "  </thead>\n",
              "  <tbody>\n",
              "    <tr>\n",
              "      <th>1690504</th>\n",
              "      <td>North America</td>\n",
              "      <td>US</td>\n",
              "      <td>Maryland</td>\n",
              "      <td>Washington DC</td>\n",
              "      <td>6</td>\n",
              "      <td>11</td>\n",
              "      <td>2004</td>\n",
              "      <td>70.9</td>\n",
              "      <td>21.61</td>\n",
              "    </tr>\n",
              "    <tr>\n",
              "      <th>12114</th>\n",
              "      <td>Africa</td>\n",
              "      <td>Burundi</td>\n",
              "      <td>No</td>\n",
              "      <td>Bujumbura</td>\n",
              "      <td>10</td>\n",
              "      <td>19</td>\n",
              "      <td>2002</td>\n",
              "      <td>-99.0</td>\n",
              "      <td>-72.78</td>\n",
              "    </tr>\n",
              "    <tr>\n",
              "      <th>1930394</th>\n",
              "      <td>North America</td>\n",
              "      <td>US</td>\n",
              "      <td>Kansas</td>\n",
              "      <td>Goodland</td>\n",
              "      <td>4</td>\n",
              "      <td>30</td>\n",
              "      <td>2011</td>\n",
              "      <td>47.8</td>\n",
              "      <td>8.78</td>\n",
              "    </tr>\n",
              "    <tr>\n",
              "      <th>57078</th>\n",
              "      <td>Africa</td>\n",
              "      <td>Ethiopia</td>\n",
              "      <td>No</td>\n",
              "      <td>Addis Ababa</td>\n",
              "      <td>12</td>\n",
              "      <td>29</td>\n",
              "      <td>2011</td>\n",
              "      <td>59.0</td>\n",
              "      <td>15.00</td>\n",
              "    </tr>\n",
              "    <tr>\n",
              "      <th>970424</th>\n",
              "      <td>Europe</td>\n",
              "      <td>Ukraine</td>\n",
              "      <td>No</td>\n",
              "      <td>Kiev</td>\n",
              "      <td>10</td>\n",
              "      <td>22</td>\n",
              "      <td>2000</td>\n",
              "      <td>42.7</td>\n",
              "      <td>5.94</td>\n",
              "    </tr>\n",
              "    <tr>\n",
              "      <th>1558609</th>\n",
              "      <td>North America</td>\n",
              "      <td>US</td>\n",
              "      <td>Arkansas</td>\n",
              "      <td>Little Rock</td>\n",
              "      <td>3</td>\n",
              "      <td>17</td>\n",
              "      <td>2014</td>\n",
              "      <td>38.3</td>\n",
              "      <td>3.50</td>\n",
              "    </tr>\n",
              "    <tr>\n",
              "      <th>1493160</th>\n",
              "      <td>North America</td>\n",
              "      <td>US</td>\n",
              "      <td>Alaska</td>\n",
              "      <td>Anchorage</td>\n",
              "      <td>12</td>\n",
              "      <td>28</td>\n",
              "      <td>2008</td>\n",
              "      <td>10.1</td>\n",
              "      <td>-12.17</td>\n",
              "    </tr>\n",
              "    <tr>\n",
              "      <th>82787</th>\n",
              "      <td>Africa</td>\n",
              "      <td>Guinea</td>\n",
              "      <td>No</td>\n",
              "      <td>Conakry</td>\n",
              "      <td>3</td>\n",
              "      <td>13</td>\n",
              "      <td>2008</td>\n",
              "      <td>83.6</td>\n",
              "      <td>28.67</td>\n",
              "    </tr>\n",
              "    <tr>\n",
              "      <th>367717</th>\n",
              "      <td>Asia</td>\n",
              "      <td>Japan</td>\n",
              "      <td>No</td>\n",
              "      <td>Osaka</td>\n",
              "      <td>4</td>\n",
              "      <td>10</td>\n",
              "      <td>2019</td>\n",
              "      <td>49.1</td>\n",
              "      <td>9.50</td>\n",
              "    </tr>\n",
              "    <tr>\n",
              "      <th>782467</th>\n",
              "      <td>Europe</td>\n",
              "      <td>Iceland</td>\n",
              "      <td>No</td>\n",
              "      <td>Reykjavik</td>\n",
              "      <td>11</td>\n",
              "      <td>1</td>\n",
              "      <td>2012</td>\n",
              "      <td>32.1</td>\n",
              "      <td>0.06</td>\n",
              "    </tr>\n",
              "    <tr>\n",
              "      <th>624221</th>\n",
              "      <td>Europe</td>\n",
              "      <td>Albania</td>\n",
              "      <td>No</td>\n",
              "      <td>Tirana</td>\n",
              "      <td>4</td>\n",
              "      <td>24</td>\n",
              "      <td>1997</td>\n",
              "      <td>-99.0</td>\n",
              "      <td>-72.78</td>\n",
              "    </tr>\n",
              "    <tr>\n",
              "      <th>1880917</th>\n",
              "      <td>North America</td>\n",
              "      <td>US</td>\n",
              "      <td>Indiana</td>\n",
              "      <td>Fort Wayne</td>\n",
              "      <td>9</td>\n",
              "      <td>12</td>\n",
              "      <td>2002</td>\n",
              "      <td>62.5</td>\n",
              "      <td>16.94</td>\n",
              "    </tr>\n",
              "    <tr>\n",
              "      <th>1696543</th>\n",
              "      <td>North America</td>\n",
              "      <td>US</td>\n",
              "      <td>Maryland</td>\n",
              "      <td>Washington DC</td>\n",
              "      <td>8</td>\n",
              "      <td>12</td>\n",
              "      <td>1995</td>\n",
              "      <td>82.3</td>\n",
              "      <td>27.94</td>\n",
              "    </tr>\n",
              "    <tr>\n",
              "      <th>2087455</th>\n",
              "      <td>North America</td>\n",
              "      <td>US</td>\n",
              "      <td>Michigan</td>\n",
              "      <td>Lansing</td>\n",
              "      <td>8</td>\n",
              "      <td>9</td>\n",
              "      <td>2019</td>\n",
              "      <td>68.4</td>\n",
              "      <td>20.22</td>\n",
              "    </tr>\n",
              "    <tr>\n",
              "      <th>1064804</th>\n",
              "      <td>Middle East</td>\n",
              "      <td>Qatar</td>\n",
              "      <td>No</td>\n",
              "      <td>Doha</td>\n",
              "      <td>2</td>\n",
              "      <td>18</td>\n",
              "      <td>2019</td>\n",
              "      <td>66.2</td>\n",
              "      <td>19.00</td>\n",
              "    </tr>\n",
              "    <tr>\n",
              "      <th>277442</th>\n",
              "      <td>Asia</td>\n",
              "      <td>China</td>\n",
              "      <td>No</td>\n",
              "      <td>Guangzhou</td>\n",
              "      <td>6</td>\n",
              "      <td>5</td>\n",
              "      <td>2000</td>\n",
              "      <td>89.2</td>\n",
              "      <td>31.78</td>\n",
              "    </tr>\n",
              "    <tr>\n",
              "      <th>1341960</th>\n",
              "      <td>South/Central America &amp; Carribean</td>\n",
              "      <td>Dominican Republic</td>\n",
              "      <td>No</td>\n",
              "      <td>Santo Domingo</td>\n",
              "      <td>11</td>\n",
              "      <td>1</td>\n",
              "      <td>2004</td>\n",
              "      <td>78.1</td>\n",
              "      <td>25.61</td>\n",
              "    </tr>\n",
              "    <tr>\n",
              "      <th>1484197</th>\n",
              "      <td>North America</td>\n",
              "      <td>US</td>\n",
              "      <td>Alabama</td>\n",
              "      <td>Montgomery</td>\n",
              "      <td>10</td>\n",
              "      <td>26</td>\n",
              "      <td>2009</td>\n",
              "      <td>56.7</td>\n",
              "      <td>13.72</td>\n",
              "    </tr>\n",
              "    <tr>\n",
              "      <th>1010257</th>\n",
              "      <td>Middle East</td>\n",
              "      <td>Bahrain</td>\n",
              "      <td>No</td>\n",
              "      <td>Manama</td>\n",
              "      <td>5</td>\n",
              "      <td>22</td>\n",
              "      <td>2008</td>\n",
              "      <td>89.5</td>\n",
              "      <td>31.94</td>\n",
              "    </tr>\n",
              "    <tr>\n",
              "      <th>2811606</th>\n",
              "      <td>North America</td>\n",
              "      <td>US</td>\n",
              "      <td>Washington</td>\n",
              "      <td>Seattle</td>\n",
              "      <td>11</td>\n",
              "      <td>30</td>\n",
              "      <td>2007</td>\n",
              "      <td>38.2</td>\n",
              "      <td>3.44</td>\n",
              "    </tr>\n",
              "  </tbody>\n",
              "</table>\n",
              "</div>"
            ],
            "text/plain": [
              "                                    Region  ... Temperature\n",
              "1690504                      North America  ...       21.61\n",
              "12114                               Africa  ...      -72.78\n",
              "1930394                      North America  ...        8.78\n",
              "57078                               Africa  ...       15.00\n",
              "970424                              Europe  ...        5.94\n",
              "1558609                      North America  ...        3.50\n",
              "1493160                      North America  ...      -12.17\n",
              "82787                               Africa  ...       28.67\n",
              "367717                                Asia  ...        9.50\n",
              "782467                              Europe  ...        0.06\n",
              "624221                              Europe  ...      -72.78\n",
              "1880917                      North America  ...       16.94\n",
              "1696543                      North America  ...       27.94\n",
              "2087455                      North America  ...       20.22\n",
              "1064804                        Middle East  ...       19.00\n",
              "277442                                Asia  ...       31.78\n",
              "1341960  South/Central America & Carribean  ...       25.61\n",
              "1484197                      North America  ...       13.72\n",
              "1010257                        Middle East  ...       31.94\n",
              "2811606                      North America  ...        3.44\n",
              "\n",
              "[20 rows x 9 columns]"
            ]
          },
          "metadata": {},
          "execution_count": 66
        }
      ]
    }
  ]
}