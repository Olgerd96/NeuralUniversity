{
  "nbformat": 4,
  "nbformat_minor": 0,
  "metadata": {
    "colab": {
      "name": "Pandas #1. Домашнее задание. Light. Университет Искусственного Интеллекта.ipynb",
      "provenance": [],
      "collapsed_sections": [],
      "include_colab_link": true
    },
    "kernelspec": {
      "name": "python3",
      "display_name": "Python 3"
    }
  },
  "cells": [
    {
      "cell_type": "markdown",
      "metadata": {
        "id": "view-in-github",
        "colab_type": "text"
      },
      "source": [
        "<a href=\"https://colab.research.google.com/github/Olgerd96/NeuralUniversity/blob/main/19.2_Pandas_1_%D0%94%D0%BE%D0%BC%D0%B0%D1%88%D0%BD%D0%B5%D0%B5_%D0%B7%D0%B0%D0%B4%D0%B0%D0%BD%D0%B8%D0%B5_Light_%D0%A3%D0%BD%D0%B8%D0%B2%D0%B5%D1%80%D1%81%D0%B8%D1%82%D0%B5%D1%82_%D0%98%D1%81%D0%BA%D1%83%D1%81%D1%81%D1%82%D0%B2%D0%B5%D0%BD%D0%BD%D0%BE%D0%B3%D0%BE_%D0%98%D0%BD%D1%82%D0%B5%D0%BB%D0%BB%D0%B5%D0%BA%D1%82%D0%B0.ipynb\" target=\"_parent\"><img src=\"https://colab.research.google.com/assets/colab-badge.svg\" alt=\"Open In Colab\"/></a>"
      ]
    },
    {
      "cell_type": "markdown",
      "metadata": {
        "id": "LHRnevSwKv86"
      },
      "source": [
        "# Pandas часть 1. Домашнее Задание. Light\n",
        "\n",
        "*2 балла за каждую задачу*\n",
        "\n",
        "*1 бонусный балл, если все задачи покрыты комментариями, которые описывают тактику решение задачи (до 10 баллов)*"
      ]
    },
    {
      "cell_type": "markdown",
      "metadata": {
        "id": "pE1Y1o7KJ2YE"
      },
      "source": [
        "### Задача 1\n",
        "*(2 балла)*\n",
        "\n",
        "Загрузите базу температур любым удобным способом. Выведите базу. Посчитайте число пустых записей в столбце State.\n",
        "\n",
        "Ссылка на скачивание базы: https://drive.google.com/file/d/1bLiz_81Kb4pMryEalRe66jS38_F6vwMX/view?usp=sharing"
      ]
    },
    {
      "cell_type": "markdown",
      "metadata": {
        "id": "2ezb2xCINL8_"
      },
      "source": [
        "**Решение:**"
      ]
    },
    {
      "cell_type": "code",
      "metadata": {
        "id": "B6MSVCRmC8nL"
      },
      "source": [
        ""
      ],
      "execution_count": null,
      "outputs": []
    },
    {
      "cell_type": "markdown",
      "metadata": {
        "id": "L4tuO6nGPkge"
      },
      "source": [
        "### Задача 2\n",
        "*(2 балла)*\n",
        "\n",
        "Заполните пустые данные в базе словом \"No\". Запишите результат в ту же переменную. Выведите ее на экран."
      ]
    },
    {
      "cell_type": "markdown",
      "metadata": {
        "id": "FikmB_61P7JS"
      },
      "source": [
        "**Решение:**"
      ]
    },
    {
      "cell_type": "code",
      "metadata": {
        "id": "m0SAFNnLC9zG"
      },
      "source": [
        ""
      ],
      "execution_count": null,
      "outputs": []
    },
    {
      "cell_type": "markdown",
      "metadata": {
        "id": "4wSd0c6cHXy4"
      },
      "source": [
        "### Задание 3\n",
        "*(2 балла)*\n",
        "\n",
        "\n",
        "При помощи метода Pandas определите число уникальных записей в столбцах Country, City, Year."
      ]
    },
    {
      "cell_type": "markdown",
      "metadata": {
        "id": "0qBu8jZANGBY"
      },
      "source": [
        "**Решение:**"
      ]
    },
    {
      "cell_type": "code",
      "metadata": {
        "id": "o6e1OQ9ZC_kK"
      },
      "source": [
        ""
      ],
      "execution_count": null,
      "outputs": []
    },
    {
      "cell_type": "markdown",
      "metadata": {
        "id": "ZqgZgXU3IaZF"
      },
      "source": [
        "### Задача 4\n",
        "*(2 балла)*\n",
        "\n",
        "При помощи библиотеки Pandas выведите строки, где в столбце Country встречается страна Russia.\n",
        "\n",
        "При помощи метода Pandas отдельно выведите число элементов в этой выборке."
      ]
    },
    {
      "cell_type": "markdown",
      "metadata": {
        "id": "rCAbJ-HRNARr"
      },
      "source": [
        "**Решение:**"
      ]
    },
    {
      "cell_type": "code",
      "metadata": {
        "id": "aZxVQFGKDIJr"
      },
      "source": [
        ""
      ],
      "execution_count": null,
      "outputs": []
    },
    {
      "cell_type": "markdown",
      "metadata": {
        "id": "HJQY0lbgNRkT"
      },
      "source": [
        "### Задача 5\n",
        "*(2 балла)*\n",
        "\n",
        "Создайте новый столбец температур, в котором будут записаны те же значения AvgTemperature, но в градусах Цельсия (исходная единица измерения - градусы Фаренгейта)."
      ]
    },
    {
      "cell_type": "markdown",
      "metadata": {
        "id": "M91qBqZ-Nq0P"
      },
      "source": [
        "**Решение:**"
      ]
    },
    {
      "cell_type": "code",
      "metadata": {
        "id": "I2JlfoFMDJRw"
      },
      "source": [
        ""
      ],
      "execution_count": null,
      "outputs": []
    }
  ]
}