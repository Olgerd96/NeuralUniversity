{
  "nbformat": 4,
  "nbformat_minor": 0,
  "metadata": {
    "colab": {
      "name": "19.1 \"Рandas # 1. Домашнее задание уровня ultra light. Университет Искусственного Интеллекта.ipynb\"\"",
      "provenance": [],
      "collapsed_sections": [],
      "include_colab_link": true
    },
    "kernelspec": {
      "name": "python3",
      "display_name": "Python 3"
    }
  },
  "cells": [
    {
      "cell_type": "markdown",
      "metadata": {
        "id": "view-in-github",
        "colab_type": "text"
      },
      "source": [
        "<a href=\"https://colab.research.google.com/github/Olgerd96/NeuralUniversity/blob/main/19.1_%D0%A0andas1.ipynb\" target=\"_parent\"><img src=\"https://colab.research.google.com/assets/colab-badge.svg\" alt=\"Open In Colab\"/></a>"
      ]
    },
    {
      "cell_type": "markdown",
      "metadata": {
        "id": "Xq9UYNWoIiE1"
      },
      "source": [
        "# Pandas часть 1. Домашнее Задание. Ultra-Light\n",
        "\n",
        "*2 балла за каждую задачу*\n",
        "\n",
        "*1 бонусный балл, если все задачи покрыты комментариями, которые описывают тактику решение задачи*"
      ]
    },
    {
      "cell_type": "markdown",
      "metadata": {
        "id": "tjFCQ3ZG9sn6"
      },
      "source": [
        "### Задание 1\n",
        "*(2 балла)*"
      ]
    },
    {
      "cell_type": "markdown",
      "metadata": {
        "id": "lIn6X8BgB9_E"
      },
      "source": [
        "Воссоздайте таблицу в виде Pandas DataFrame.\n",
        "\n",
        "![image.png](data:image/png;base64,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)"
      ]
    },
    {
      "cell_type": "markdown",
      "metadata": {
        "id": "lIaolcwW_3Hg"
      },
      "source": [
        "**Решение:**"
      ]
    },
    {
      "cell_type": "code",
      "metadata": {
        "id": "q9npylU2GKbP",
        "colab": {
          "base_uri": "https://localhost:8080/",
          "height": 187
        },
        "outputId": "728dc44e-cebf-4809-a783-649797302930"
      },
      "source": [
        "import pandas as pd\n",
        "#columns = [x for x in range(7)]\n",
        "columns = list(range(0,7)) \n",
        "my_df = pd.DataFrame([[x*y for x in range(7)] for y in range(4)], columns=columns)  #колонки можно было не задавать: автонумерация столбцов подходит\n",
        "\n",
        "print(\"1. Создана таблица типа: \" + str(type(my_df)))\n",
        "my_df"
      ],
      "execution_count": 2,
      "outputs": [
        {
          "output_type": "stream",
          "name": "stdout",
          "text": [
            "1. Создана таблица типа: <class 'pandas.core.frame.DataFrame'>\n"
          ]
        },
        {
          "output_type": "execute_result",
          "data": {
            "text/html": [
              "<div>\n",
              "<style scoped>\n",
              "    .dataframe tbody tr th:only-of-type {\n",
              "        vertical-align: middle;\n",
              "    }\n",
              "\n",
              "    .dataframe tbody tr th {\n",
              "        vertical-align: top;\n",
              "    }\n",
              "\n",
              "    .dataframe thead th {\n",
              "        text-align: right;\n",
              "    }\n",
              "</style>\n",
              "<table border=\"1\" class=\"dataframe\">\n",
              "  <thead>\n",
              "    <tr style=\"text-align: right;\">\n",
              "      <th></th>\n",
              "      <th>0</th>\n",
              "      <th>1</th>\n",
              "      <th>2</th>\n",
              "      <th>3</th>\n",
              "      <th>4</th>\n",
              "      <th>5</th>\n",
              "      <th>6</th>\n",
              "    </tr>\n",
              "  </thead>\n",
              "  <tbody>\n",
              "    <tr>\n",
              "      <th>0</th>\n",
              "      <td>0</td>\n",
              "      <td>0</td>\n",
              "      <td>0</td>\n",
              "      <td>0</td>\n",
              "      <td>0</td>\n",
              "      <td>0</td>\n",
              "      <td>0</td>\n",
              "    </tr>\n",
              "    <tr>\n",
              "      <th>1</th>\n",
              "      <td>0</td>\n",
              "      <td>1</td>\n",
              "      <td>2</td>\n",
              "      <td>3</td>\n",
              "      <td>4</td>\n",
              "      <td>5</td>\n",
              "      <td>6</td>\n",
              "    </tr>\n",
              "    <tr>\n",
              "      <th>2</th>\n",
              "      <td>0</td>\n",
              "      <td>2</td>\n",
              "      <td>4</td>\n",
              "      <td>6</td>\n",
              "      <td>8</td>\n",
              "      <td>10</td>\n",
              "      <td>12</td>\n",
              "    </tr>\n",
              "    <tr>\n",
              "      <th>3</th>\n",
              "      <td>0</td>\n",
              "      <td>3</td>\n",
              "      <td>6</td>\n",
              "      <td>9</td>\n",
              "      <td>12</td>\n",
              "      <td>15</td>\n",
              "      <td>18</td>\n",
              "    </tr>\n",
              "  </tbody>\n",
              "</table>\n",
              "</div>"
            ],
            "text/plain": [
              "   0  1  2  3   4   5   6\n",
              "0  0  0  0  0   0   0   0\n",
              "1  0  1  2  3   4   5   6\n",
              "2  0  2  4  6   8  10  12\n",
              "3  0  3  6  9  12  15  18"
            ]
          },
          "metadata": {},
          "execution_count": 2
        }
      ]
    },
    {
      "cell_type": "markdown",
      "metadata": {
        "id": "_LXAq1fXCFZg"
      },
      "source": [
        "### Задание 2\n",
        "*(2 балла)*"
      ]
    },
    {
      "cell_type": "markdown",
      "metadata": {
        "id": "tT4jusZCCIs6"
      },
      "source": [
        "Сложите все значения в таблице по столбцам без использования циклов и условий."
      ]
    },
    {
      "cell_type": "markdown",
      "metadata": {
        "id": "ABgHRBvUC5N-"
      },
      "source": [
        "**Решение:**"
      ]
    },
    {
      "cell_type": "code",
      "metadata": {
        "id": "WbluMtxjGLUF",
        "colab": {
          "base_uri": "https://localhost:8080/"
        },
        "outputId": "c6e276bd-8541-4f83-b4fa-3c9d5f4aa28c"
      },
      "source": [
        "all_sum = my_df.sum(axis = 0)\n",
        "print(\"2. Сумма по столбцам: \\n\" + str(all_sum))\n"
      ],
      "execution_count": 4,
      "outputs": [
        {
          "output_type": "stream",
          "name": "stdout",
          "text": [
            "2. Сумма по столбцам: \n",
            "0     0\n",
            "1     6\n",
            "2    12\n",
            "3    18\n",
            "4    24\n",
            "5    30\n",
            "6    36\n",
            "dtype: int64\n"
          ]
        }
      ]
    },
    {
      "cell_type": "markdown",
      "metadata": {
        "id": "UG9w_A9jC7i5"
      },
      "source": [
        "### Задание 3\n",
        "*(2 балла)*"
      ]
    },
    {
      "cell_type": "markdown",
      "metadata": {
        "id": "Sf2OS-gaC7i6"
      },
      "source": [
        "При помощи метода Pandas выведите размерность матрицы. Убедитесь в корректности результата."
      ]
    },
    {
      "cell_type": "markdown",
      "metadata": {
        "id": "awB2hEn8C7i6"
      },
      "source": [
        "**Решение:**"
      ]
    },
    {
      "cell_type": "code",
      "metadata": {
        "id": "HzCIMqcTGMUB",
        "colab": {
          "base_uri": "https://localhost:8080/"
        },
        "outputId": "86958186-6d16-47e1-ea51-d405f30b1e43"
      },
      "source": [
        "print(f\"3. Размерность my_df:\\t {my_df.shape}.\")\n"
      ],
      "execution_count": 7,
      "outputs": [
        {
          "output_type": "stream",
          "name": "stdout",
          "text": [
            "3. Размерность my_df:\t (4, 7).\n"
          ]
        }
      ]
    },
    {
      "cell_type": "markdown",
      "metadata": {
        "id": "66P1HKN3DwyJ"
      },
      "source": [
        "### Задание 4\n",
        "*(2 балла)*"
      ]
    },
    {
      "cell_type": "markdown",
      "metadata": {
        "id": "DaEJ27qJDwyK"
      },
      "source": [
        "При помощи метода Pandas выведите 2 отдельных Series, содержащие данные из второго и пятого столбца. При помощи команды type проверьте тип получившихся объектов."
      ]
    },
    {
      "cell_type": "markdown",
      "metadata": {
        "id": "ER5Tc2cLDwyL"
      },
      "source": [
        "**Решение:**"
      ]
    },
    {
      "cell_type": "code",
      "metadata": {
        "id": "Wl5sOY95GNKv",
        "colab": {
          "base_uri": "https://localhost:8080/"
        },
        "outputId": "1beebeb4-4df1-4551-c0ad-85e6c3c74c95"
      },
      "source": [
        "ser1 = my_df[1]\n",
        "ser2 = my_df[4]\n",
        "\n",
        "print(f\"4.1 Серия из второго (индекс = 1) столбца :\\n{ser1}\")\n",
        "print(f\"\\n4.2 Серия из пятого (индекс = 4) столбца :\\n{ser2}\")\n",
        "print(f\"\\n4.3 Тип данных обоих серияй: \\t{type(ser1)}\")\n",
        "print(f\"Дополнительная проверка. Тип данных из функции Series: \\t{type(pd.Series(range(5)))}\")\n"
      ],
      "execution_count": 37,
      "outputs": [
        {
          "output_type": "stream",
          "name": "stdout",
          "text": [
            "4.1 Серия из второго (индекс = 1) столбца :\n",
            "0    0\n",
            "1    1\n",
            "2    2\n",
            "3    3\n",
            "Name: 1, dtype: int64\n",
            "\n",
            "4.2 Серия из пятого (индекс = 4) столбца :\n",
            "0     0\n",
            "1     4\n",
            "2     8\n",
            "3    12\n",
            "Name: 4, dtype: int64\n",
            "\n",
            "4.3 Тип данных обоих серияй: \t<class 'pandas.core.series.Series'>\n",
            "Дополнительная проверка. Тип данных из функции Series: \t<class 'pandas.core.series.Series'>\n"
          ]
        }
      ]
    },
    {
      "cell_type": "markdown",
      "metadata": {
        "id": "5b-0JjkmFgVr"
      },
      "source": [
        "### Задание 5\n",
        "*(2 балла)*"
      ]
    },
    {
      "cell_type": "markdown",
      "metadata": {
        "id": "47p1DiYbFgVt"
      },
      "source": [
        "Добавьте в таблицу столбец **7**, содержащий значения **0, 7, 14, 21.**"
      ]
    },
    {
      "cell_type": "markdown",
      "metadata": {
        "id": "to3llE42FgVt"
      },
      "source": [
        "**Решение:**"
      ]
    },
    {
      "cell_type": "code",
      "metadata": {
        "id": "BbSwld_4GOSx",
        "colab": {
          "base_uri": "https://localhost:8080/",
          "height": 187
        },
        "outputId": "64d2b9cd-7e15-46ad-b2fb-44cd19e24a08"
      },
      "source": [
        "#my_df[my_df.shape[1]] = pd.Series([0, 7, 14, 12]) - сначала хотел всегда добавлять новый столбец, но прочитал задание и там явно указано \"7\"\n",
        "my_df[7] = pd.Series([0, 7, 14, 12])\n",
        "print(\"5. Датафрейм с добавленным столбцом 7:\")\n",
        "my_df"
      ],
      "execution_count": 64,
      "outputs": [
        {
          "output_type": "stream",
          "name": "stdout",
          "text": [
            "5. Датафрейм с добавленным столбцом 7:\n"
          ]
        },
        {
          "output_type": "execute_result",
          "data": {
            "text/html": [
              "<div>\n",
              "<style scoped>\n",
              "    .dataframe tbody tr th:only-of-type {\n",
              "        vertical-align: middle;\n",
              "    }\n",
              "\n",
              "    .dataframe tbody tr th {\n",
              "        vertical-align: top;\n",
              "    }\n",
              "\n",
              "    .dataframe thead th {\n",
              "        text-align: right;\n",
              "    }\n",
              "</style>\n",
              "<table border=\"1\" class=\"dataframe\">\n",
              "  <thead>\n",
              "    <tr style=\"text-align: right;\">\n",
              "      <th></th>\n",
              "      <th>0</th>\n",
              "      <th>1</th>\n",
              "      <th>2</th>\n",
              "      <th>3</th>\n",
              "      <th>4</th>\n",
              "      <th>5</th>\n",
              "      <th>6</th>\n",
              "      <th>7</th>\n",
              "    </tr>\n",
              "  </thead>\n",
              "  <tbody>\n",
              "    <tr>\n",
              "      <th>0</th>\n",
              "      <td>0</td>\n",
              "      <td>0</td>\n",
              "      <td>0</td>\n",
              "      <td>0</td>\n",
              "      <td>0</td>\n",
              "      <td>0</td>\n",
              "      <td>0</td>\n",
              "      <td>0</td>\n",
              "    </tr>\n",
              "    <tr>\n",
              "      <th>1</th>\n",
              "      <td>0</td>\n",
              "      <td>1</td>\n",
              "      <td>2</td>\n",
              "      <td>3</td>\n",
              "      <td>4</td>\n",
              "      <td>5</td>\n",
              "      <td>6</td>\n",
              "      <td>7</td>\n",
              "    </tr>\n",
              "    <tr>\n",
              "      <th>2</th>\n",
              "      <td>0</td>\n",
              "      <td>2</td>\n",
              "      <td>4</td>\n",
              "      <td>6</td>\n",
              "      <td>8</td>\n",
              "      <td>10</td>\n",
              "      <td>12</td>\n",
              "      <td>14</td>\n",
              "    </tr>\n",
              "    <tr>\n",
              "      <th>3</th>\n",
              "      <td>0</td>\n",
              "      <td>3</td>\n",
              "      <td>6</td>\n",
              "      <td>9</td>\n",
              "      <td>12</td>\n",
              "      <td>15</td>\n",
              "      <td>18</td>\n",
              "      <td>12</td>\n",
              "    </tr>\n",
              "  </tbody>\n",
              "</table>\n",
              "</div>"
            ],
            "text/plain": [
              "   0  1  2  3   4   5   6   7\n",
              "0  0  0  0  0   0   0   0   0\n",
              "1  0  1  2  3   4   5   6   7\n",
              "2  0  2  4  6   8  10  12  14\n",
              "3  0  3  6  9  12  15  18  12"
            ]
          },
          "metadata": {},
          "execution_count": 64
        }
      ]
    }
  ]
}