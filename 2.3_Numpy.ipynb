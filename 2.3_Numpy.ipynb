{
  "nbformat": 4,
  "nbformat_minor": 0,
  "metadata": {
    "colab": {
      "name": "2.3 \"Numpy. Домашнее задание. Pro. Университет Искусственного Интеллекта.ipynb\"",
      "provenance": [],
      "collapsed_sections": [],
      "include_colab_link": true
    },
    "kernelspec": {
      "name": "python3",
      "display_name": "Python 3"
    }
  },
  "cells": [
    {
      "cell_type": "markdown",
      "metadata": {
        "id": "view-in-github",
        "colab_type": "text"
      },
      "source": [
        "<a href=\"https://colab.research.google.com/github/Olgerd96/NeuralUniversity/blob/main/2.3_Numpy.ipynb\" target=\"_parent\"><img src=\"https://colab.research.google.com/assets/colab-badge.svg\" alt=\"Open In Colab\"/></a>"
      ]
    },
    {
      "cell_type": "markdown",
      "metadata": {
        "id": "FeqqaWYY0lhg"
      },
      "source": [
        "# Numpy. Домашнее Задание. Pro\n",
        "\n",
        "*2 балла за каждую задачу*"
      ]
    },
    {
      "cell_type": "markdown",
      "metadata": {
        "id": "iQhtbx8Z8SZj"
      },
      "source": [
        "### Задача 1\n",
        "*(2 балла)*\n",
        "\n",
        "* Подгрузите массив с файла **iris.csv** и назовите этот массив my_array. \n",
        "\n",
        "* Создайте двумерный массив из случайных чисел той же размерности, что и my_array (раздел \"Семплирование из распределений\", потребуется использовать размерность массива my_array).\n",
        "\n",
        "* Назовите его my_generated_array."
      ]
    },
    {
      "cell_type": "markdown",
      "metadata": {
        "id": "KdbAknB0AR0O"
      },
      "source": [
        "**Решение:**"
      ]
    },
    {
      "cell_type": "code",
      "metadata": {
        "id": "uQDyuRTB_ntY",
        "colab": {
          "base_uri": "https://localhost:8080/"
        },
        "outputId": "77b48d27-981c-4afe-d6ca-b02c7d0253e5"
      },
      "source": [
        "import numpy as np    # подключаем numpy\n",
        "from google.colab import drive\n",
        "\n",
        "drive.mount('/content/drive')\n",
        "my_array = np.loadtxt('/content/drive/MyDrive/Colab Notebooks/Neural university/iris.csv', delimiter=',', skiprows=1) # без первой строки (заголовки)\n",
        "print(\"Размер загруженного матрицы my_array: \" + str(np.shape(my_array)))\n",
        "print(\"\\n1.1 my_array:\\n\"+str(my_array[0:10]))\n",
        "\n",
        "my_generated_array = np.random.normal(my_array.mean(), my_array.mean() , np.shape(my_array))\n",
        "print(\"\\n1.2 my_generated_array (сразу после сэмплирования):\\n\"+str(my_generated_array[0:10]))\n",
        "\n",
        "my_generated_array=my_generated_array.round(1) # делаем точность как у исходного массива т 1 знак после запятой :)\n",
        "print(\"\\n1.3 my_generated_array (точность как и в исходной матрице = 1 знак после запятой):\\n\"+str(my_generated_array[0:10]))\n",
        "# на самом деле это не достаточно точный сэмпл начального массива - потому что: \n",
        "#   в начальном массиве в первом столбике был номер строки, а мы считаем это обычными данными\n",
        "#   значения должны быть не отритчательные\n",
        "# изучайте данные с которыми работаете!\n",
        "#print(\"\\nmy_array:\\n\"+str(my_array[0:,0]))\n",
        "\n",
        "print(\"\\nСреднее значение:\\n\\tmy_array = \\t\\t\"+str(my_generated_array.mean())+\"\\n\\tmy_generated_array = \\t\"+str(my_generated_array.mean()))\n",
        "print(\"Стандартное отклонение:\\n\\tmy_array = \\t\\t\"+str(my_generated_array.std())+\"\\n\\tmy_generated_array = \\t\"+str(my_generated_array.std()))\n"
      ],
      "execution_count": null,
      "outputs": [
        {
          "output_type": "stream",
          "name": "stdout",
          "text": [
            "Drive already mounted at /content/drive; to attempt to forcibly remount, call drive.mount(\"/content/drive\", force_remount=True).\n",
            "Размер загруженного матрицы my_array: (150, 5)\n",
            "\n",
            "1.1 my_array:\n",
            "[[0.  5.1 3.5 1.4 0.2]\n",
            " [1.  4.9 3.  1.4 0.2]\n",
            " [2.  4.7 3.2 1.3 0.2]\n",
            " [3.  4.6 3.1 1.5 0.2]\n",
            " [4.  5.  3.6 1.4 0.2]\n",
            " [5.  5.4 3.9 1.7 0.4]\n",
            " [6.  4.6 3.4 1.4 0.3]\n",
            " [7.  5.  3.4 1.5 0.2]\n",
            " [8.  4.4 2.9 1.4 0.2]\n",
            " [9.  4.9 3.1 1.5 0.1]]\n",
            "\n",
            "1.2 my_generated_array (сразу после сэмплирования):\n",
            "[[ 12.99663803  -0.44561857  20.99592729  31.63038919  -1.16135567]\n",
            " [ -8.81479757  25.78387516  -1.83906012   7.94390838  26.16687155]\n",
            " [  1.38955229   8.76536192  35.59504909  10.95287487  29.57626186]\n",
            " [ -4.46892637  19.99528911  12.0156736   20.14114295  43.04460341]\n",
            " [ 38.49613819   5.29493055  46.01842859 -43.13901856  14.03330399]\n",
            " [ 16.07923041  41.12004137 -19.30783151  29.68973945  14.24657387]\n",
            " [-11.23266784   5.4427854   18.14737997  28.67637801  37.27753778]\n",
            " [ 14.24032009  20.97720586  12.18054545  19.55035559   5.42165793]\n",
            " [  0.7836655   23.04394353  40.49858621 -11.76510906   4.26050089]\n",
            " [ 50.01703958  17.90551068  42.39371174  27.10980078  52.004722  ]]\n",
            "\n",
            "1.3 my_generated_array (точность как и в исходной матрице = 1 знак после запятой):\n",
            "[[ 13.   -0.4  21.   31.6  -1.2]\n",
            " [ -8.8  25.8  -1.8   7.9  26.2]\n",
            " [  1.4   8.8  35.6  11.   29.6]\n",
            " [ -4.5  20.   12.   20.1  43. ]\n",
            " [ 38.5   5.3  46.  -43.1  14. ]\n",
            " [ 16.1  41.1 -19.3  29.7  14.2]\n",
            " [-11.2   5.4  18.1  28.7  37.3]\n",
            " [ 14.2  21.   12.2  19.6   5.4]\n",
            " [  0.8  23.   40.5 -11.8   4.3]\n",
            " [ 50.   17.9  42.4  27.1  52. ]]\n",
            "\n",
            "Среднее значение:\n",
            "\tmy_array = \t\t18.20426666666667\n",
            "\tmy_generated_array = \t18.20426666666667\n",
            "Стандартное отклонение:\n",
            "\tmy_array = \t\t17.606889800933672\n",
            "\tmy_generated_array = \t17.606889800933672\n"
          ]
        }
      ]
    },
    {
      "cell_type": "markdown",
      "metadata": {
        "id": "hzR46ceA8SZp"
      },
      "source": [
        "### Задача 2\n",
        "*(2 балла)*\n",
        "\n",
        "* Выполните поэлементное умножение my_array на my_generated_array (раздел \"Векторные операции\").\n",
        "\n",
        "* Склейте массивы my_array, my_generated_array в один (могут помочь методы np.concatenate, np.vstack, np.hstack).\n",
        "\n",
        "* Возьмите склеенный массив и разделите его на равные части (больше двух). Можно сделать вручную через циклы либо воспользоваться методом vsplit."
      ]
    },
    {
      "cell_type": "markdown",
      "metadata": {
        "id": "VJbqrCAvA0My"
      },
      "source": [
        "**Решение:**"
      ]
    },
    {
      "cell_type": "code",
      "metadata": {
        "id": "VuQOLDyRA0My",
        "colab": {
          "base_uri": "https://localhost:8080/"
        },
        "outputId": "3db43831-65fc-4799-fff5-7b7a0d498791"
      },
      "source": [
        "mult_array = my_array * my_generated_array\n",
        "print(\"\\n2.1 Поэлементное умножение двух матриц:\\n\"+str(mult_array[0:10]))  #вывожу не все а только 10 пераых\n",
        "\n",
        "concatenate_arr = np.concatenate((my_array, my_generated_array))\n",
        "# то же самое другой функцией: vstack_arr = np.vstack((my_array, my_generated_array))\n",
        "print(\"\\n2.2 Размер склеенной матрицы (метод concatenate): \" + str(np.shape(concatenate_arr)))\n",
        "print(\"\\nМесто склейки массивов:\\n\"+str(concatenate_arr[len(my_array)-4:len(my_array)+6])) #len(my_array) = номер строки на которогой закончилась первая матрица\n",
        "\n",
        "print(\"\\n2.3 Разделенные массивы:\")\n",
        "split_arr = np.vsplit(concatenate_arr, 3)\n",
        "for i in range(len(split_arr)):\n",
        "  print(\"пару строк из матрицы \"+str(i)+\" (из \"+str(len(split_arr[i]))+\" элементов):\\n\"+str(split_arr[i][0:5]))\n"
      ],
      "execution_count": null,
      "outputs": [
        {
          "output_type": "stream",
          "name": "stdout",
          "text": [
            "\n",
            "2.1 Поэлементное умножение двух матриц:\n",
            "[[ 0.0000e+00 -2.0400e+00  7.3500e+01  4.4240e+01 -2.4000e-01]\n",
            " [-8.8000e+00  1.2642e+02 -5.4000e+00  1.1060e+01  5.2400e+00]\n",
            " [ 2.8000e+00  4.1360e+01  1.1392e+02  1.4300e+01  5.9200e+00]\n",
            " [-1.3500e+01  9.2000e+01  3.7200e+01  3.0150e+01  8.6000e+00]\n",
            " [ 1.5400e+02  2.6500e+01  1.6560e+02 -6.0340e+01  2.8000e+00]\n",
            " [ 8.0500e+01  2.2194e+02 -7.5270e+01  5.0490e+01  5.6800e+00]\n",
            " [-6.7200e+01  2.4840e+01  6.1540e+01  4.0180e+01  1.1190e+01]\n",
            " [ 9.9400e+01  1.0500e+02  4.1480e+01  2.9400e+01  1.0800e+00]\n",
            " [ 6.4000e+00  1.0120e+02  1.1745e+02 -1.6520e+01  8.6000e-01]\n",
            " [ 4.5000e+02  8.7710e+01  1.3144e+02  4.0650e+01  5.2000e+00]]\n",
            "\n",
            "2.2 Размер склеенной матрицы (метод concatenate): (300, 5)\n",
            "\n",
            "Место склейки массивов:\n",
            "[[146.    6.3   2.5   5.    1.9]\n",
            " [147.    6.5   3.    5.2   2. ]\n",
            " [148.    6.2   3.4   5.4   2.3]\n",
            " [149.    5.9   3.    5.1   1.8]\n",
            " [ 13.   -0.4  21.   31.6  -1.2]\n",
            " [ -8.8  25.8  -1.8   7.9  26.2]\n",
            " [  1.4   8.8  35.6  11.   29.6]\n",
            " [ -4.5  20.   12.   20.1  43. ]\n",
            " [ 38.5   5.3  46.  -43.1  14. ]\n",
            " [ 16.1  41.1 -19.3  29.7  14.2]]\n",
            "\n",
            "2.3 Разделенные массивы:\n",
            "пару строк из матрицы 0 (из 100 элементов):\n",
            "[[0.  5.1 3.5 1.4 0.2]\n",
            " [1.  4.9 3.  1.4 0.2]\n",
            " [2.  4.7 3.2 1.3 0.2]\n",
            " [3.  4.6 3.1 1.5 0.2]\n",
            " [4.  5.  3.6 1.4 0.2]]\n",
            "пару строк из матрицы 1 (из 100 элементов):\n",
            "[[100.    6.3   3.3   6.    2.5]\n",
            " [101.    5.8   2.7   5.1   1.9]\n",
            " [102.    7.1   3.    5.9   2.1]\n",
            " [103.    6.3   2.9   5.6   1.8]\n",
            " [104.    6.5   3.    5.8   2.2]]\n",
            "пару строк из матрицы 2 (из 100 элементов):\n",
            "[[37.7 18.7 16.   4.8  2.8]\n",
            " [ 0.3 47.8 -1.5  7.1 36.4]\n",
            " [19.8  6.4  8.9 15.5 26.1]\n",
            " [ 6.2  4.6 -3.5 45.  -2.1]\n",
            " [34.8 10.4 17.1 32.2 -0.2]]\n"
          ]
        }
      ]
    },
    {
      "cell_type": "markdown",
      "metadata": {
        "id": "z08ODJt78SZw"
      },
      "source": [
        "### Задача 3\n",
        "*(2 балла)*\n",
        "\n",
        "* Найдите все элементы массива my_array, которые больше трех и меньше 5 одновременно. Используйте методологию подвыборки массива с условием (раздел \"Индексация\")."
      ]
    },
    {
      "cell_type": "markdown",
      "metadata": {
        "id": "ABomd938A0wl"
      },
      "source": [
        "**Решение:**"
      ]
    },
    {
      "cell_type": "code",
      "metadata": {
        "id": "VvyzSiqWA0wn",
        "colab": {
          "base_uri": "https://localhost:8080/"
        },
        "outputId": "8944b1f2-075f-4803-8274-7e4f14ee05dd"
      },
      "source": [
        "print(\"3. Элементы my_array больше 3 и меньше 5:\\n\"+str(my_array[(my_array<5)& (my_array>3)]))\n",
        "print(\"Всего было найдено \"+str(len(my_array[(my_array<5)& (my_array>3)]))+\" элементов подходящих под заданное условие\")\n"
      ],
      "execution_count": null,
      "outputs": [
        {
          "output_type": "stream",
          "name": "stdout",
          "text": [
            "3. Элементы my_array больше 3 и меньше 5:\n",
            "[3.5 4.9 4.7 3.2 4.6 3.1 4.  3.6 3.9 4.6 3.4 3.4 4.4 4.9 3.1 3.7 4.8 3.4\n",
            " 4.8 4.3 4.  4.4 3.9 3.5 3.8 3.8 3.4 3.7 4.6 3.6 3.3 4.8 3.4 3.4 3.5 3.4\n",
            " 4.7 3.2 4.8 3.1 3.4 4.1 4.2 4.9 3.1 3.2 3.5 4.9 3.6 4.4 3.4 3.5 4.5 4.4\n",
            " 3.2 3.5 3.8 4.8 3.8 4.6 3.2 3.7 3.3 3.2 4.7 3.2 4.5 3.1 4.9 4.  4.6 4.5\n",
            " 3.3 4.7 4.9 3.3 4.6 3.9 3.5 4.2 4.  4.7 3.6 3.1 4.4 4.5 4.1 4.5 3.9 3.2\n",
            " 4.8 4.  4.9 4.7 4.3 4.4 4.8 4.5 3.5 3.8 3.7 3.9 4.5 3.4 4.5 3.1 4.7 4.4\n",
            " 4.1 4.  4.4 4.6 4.  3.3 4.2 4.2 4.2 4.3 4.1 3.3 4.9 4.5 3.6 3.2 3.2 3.8\n",
            " 3.2 4.9 4.9 3.3 3.2 4.8 4.9 3.8 3.4 3.1 4.8 3.1 3.1 3.1 3.2 3.3 3.4]\n",
            "Всего было найдено 143 элементов подходящих под заданное условие\n"
          ]
        }
      ]
    },
    {
      "cell_type": "markdown",
      "metadata": {
        "id": "P_O3RZUR8SZ6"
      },
      "source": [
        "### Задача 4\n",
        "*(2 балла)*\n",
        "\n",
        "Создайте трехмерный массив размера 2 на 3 на 4, состоящий из случайных ВЕЩЕСТВЕННЫХ чисел от 15 до 37. Используйте встроенные методы библиотеки  np.random."
      ]
    },
    {
      "cell_type": "markdown",
      "metadata": {
        "id": "tpfyzjF0A1HD"
      },
      "source": [
        "**Решение:**"
      ]
    },
    {
      "cell_type": "code",
      "metadata": {
        "id": "-l2omKOiA1HF",
        "colab": {
          "base_uri": "https://localhost:8080/"
        },
        "outputId": "61688d77-6112-4ced-c4d4-dade6c32e587"
      },
      "source": [
        "sample_arr = np.random.uniform(low=0, high=50, size=(2,3,4))\n",
        "print(\"4. Генерированный массив:\\n\"+str(sample_arr))\n",
        "print(\"Размер матрицы sample_arr: \" + str(np.shape(sample_arr)))\n"
      ],
      "execution_count": null,
      "outputs": [
        {
          "output_type": "stream",
          "name": "stdout",
          "text": [
            "4. Генерированный массив:\n",
            "[[[14.73121071 28.77816782 49.2014343  21.67053185]\n",
            "  [33.31610338 42.02992135 26.47171701 33.52709169]\n",
            "  [25.94959526 36.76047104 44.45223358 39.81549924]]\n",
            "\n",
            " [[49.27373051 17.07219672 30.50573382 49.01027963]\n",
            "  [37.05508643 49.85683024 34.13040814 35.22028213]\n",
            "  [23.59004794 46.85538262  7.04649117 10.82427807]]]\n",
            "Размер матрицы sample_arr: (2, 3, 4)\n"
          ]
        }
      ]
    },
    {
      "cell_type": "markdown",
      "metadata": {
        "id": "_8q3NF_k8SaA"
      },
      "source": [
        "\n",
        "### Задача 5\n",
        "*(2 балла)*\n",
        "Используя массив из предыдущей задачи, преобразуйте его в новый массив со следующими значениями:\n",
        "\n",
        "    * \"small\", если значения меньше 20\n",
        "    * \"medium\", если значения в промежутке [20, 30]\n",
        "    * \"large\", если значения больше 30"
      ]
    },
    {
      "cell_type": "markdown",
      "metadata": {
        "id": "W0pitA1DA1vG"
      },
      "source": [
        "**Решение:**"
      ]
    },
    {
      "cell_type": "code",
      "metadata": {
        "id": "H6EAMd9XA1vH",
        "colab": {
          "base_uri": "https://localhost:8080/"
        },
        "outputId": "dab3e147-3e7b-439a-c6e0-99a129863002"
      },
      "source": [
        "def classify(x):\n",
        "  if x< 20: return(\"small\")\n",
        "  elif x <= 30: return(\"medium\")\n",
        "  else : return(\"large\")\n",
        "\n",
        "condition_arr = []\n",
        "for lay3d in sample_arr:\n",
        "  arr2d = []\n",
        "  for lay2d in lay3d:\n",
        "    arr1d = []\n",
        "    for x in lay2d : arr1d.append(classify(x))\n",
        "    arr2d.append(arr1d)\n",
        "  condition_arr.append(arr2d)\n",
        "condition_arr = np.array(condition_arr)   #nympy тензор красивее на печати\n",
        "print(\"5. Новый массив:\\n\"+str(condition_arr))\n"
      ],
      "execution_count": null,
      "outputs": [
        {
          "output_type": "stream",
          "name": "stdout",
          "text": [
            "5. Новый массив:\n",
            "[[['small' 'medium' 'large' 'medium']\n",
            "  ['large' 'large' 'medium' 'large']\n",
            "  ['medium' 'large' 'large' 'large']]\n",
            "\n",
            " [['large' 'small' 'large' 'large']\n",
            "  ['large' 'large' 'large' 'large']\n",
            "  ['medium' 'large' 'small' 'small']]]\n"
          ]
        }
      ]
    }
  ]
}